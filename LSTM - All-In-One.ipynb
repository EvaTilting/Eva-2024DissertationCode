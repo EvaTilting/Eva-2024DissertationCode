{
 "cells": [
  {
   "cell_type": "code",
   "execution_count": 1,
   "metadata": {},
   "outputs": [],
   "source": [
    "import numpy as np\n",
    "import numpy.ma as ma\n",
    "import matplotlib.pyplot as plt\n",
    "import iris\n",
    "import iris.plot as iplt\n",
    "import iris.quickplot as qplt\n",
    "import datetime\n",
    "from iris.time import PartialDateTime\n",
    "from iris.util import mask_cube_from_shapefile\n",
    "import cartopy.io.shapereader as shpreader\n",
    "from shapely.ops import unary_union\n",
    "from shapely.geometry.polygon import Polygon\n",
    "from shapely import MultiPolygon, Polygon\n",
    "\n",
    "import os\n",
    "import torch\n",
    "import pandas as pd\n",
    "import sklearn\n",
    "from torch import nn, optim\n",
    "from torch.utils.data import DataLoader\n",
    "from torchvision import datasets, transforms\n",
    "from torch.autograd import Variable \n",
    "from torch.utils.data import Dataset\n",
    "\n",
    "from sklearn.preprocessing import StandardScaler, MinMaxScaler\n"
   ]
  },
  {
   "cell_type": "code",
   "execution_count": 2,
   "metadata": {},
   "outputs": [],
   "source": [
    "filenames = ['C:/Users/Tilt/Downloads/Project/Data/data_2010.nc','C:/Users/Tilt/Downloads/Project/Data/data_2011.nc',\n",
    "             'C:/Users/Tilt/Downloads/Project/Data/data_2012.nc','C:/Users/Tilt/Downloads/Project/Data/data_2013.nc',\n",
    "             'C:/Users/Tilt/Downloads/Project/Data/data_2014.nc','C:/Users/Tilt/Downloads/Project/Data/data_2015.nc',\n",
    "             'C:/Users/Tilt/Downloads/Project/Data/data_2016.nc','C:/Users/Tilt/Downloads/Project/Data/data_2017.nc',\n",
    "             'C:/Users/Tilt/Downloads/Project/Data/data_2018.nc','C:/Users/Tilt/Downloads/Project/Data/data_2019.nc']\n",
    "cubes = iris.load(filenames)\n",
    "cubes = cubes.concatenate()\n",
    "#print(cubes)"
   ]
  },
  {
   "cell_type": "code",
   "execution_count": 3,
   "metadata": {},
   "outputs": [
    {
     "name": "stdout",
     "output_type": "stream",
     "text": [
      "{'burned_area': <iris 'Cube' of burned_area / (m2) (time: 120; latitude: 720; longitude: 1440)>, 'population_density': <iris 'Cube' of population_density / (unknown) (time: 120; latitude: 720; longitude: 1440)>, '10 metre wind speed': <iris 'Cube' of 10 metre wind speed / (m s**-1) (time: 120; latitude: 720; longitude: 1440)>, '2 metre temperature': <iris 'Cube' of 2 metre temperature / (K) (time: 120; latitude: 720; longitude: 1440)>, 'Convective available potential energy': <iris 'Cube' of Convective available potential energy / (J kg**-1) (time: 120; latitude: 720; longitude: 1440)>, 'Leaf area index, high vegetation': <iris 'Cube' of Leaf area index, high vegetation / (m**2 m**-2) (time: 120; latitude: 720; longitude: 1440)>, 'Leaf area index, low vegetation': <iris 'Cube' of Leaf area index, low vegetation / (m**2 m**-2) (time: 120; latitude: 720; longitude: 1440)>, 'Total precipitation': <iris 'Cube' of Total precipitation / (m) (time: 120; latitude: 720; longitude: 1440)>, 'Volumetric soil water layer 1': <iris 'Cube' of Volumetric soil water layer 1 / (m**3 m**-3) (time: 120; latitude: 720; longitude: 1440)>, 'observed_fraction_mask': <iris 'Cube' of observed_fraction_mask / (unknown) (latitude: 720; longitude: 1440)>, 'standard error of the estimation of burned area': <iris 'Cube' of standard error of the estimation of burned area / (m2) (time: 120; latitude: 720; longitude: 1440)>}\n"
     ]
    }
   ],
   "source": [
    "ConstraintNames = [\n",
    "    'burned_area',\n",
    "    'population_density',\n",
    "    '10 metre wind speed',\n",
    "    '2 metre temperature',\n",
    "    'Convective available potential energy',\n",
    "    'Leaf area index, high vegetation',\n",
    "    'Leaf area index, low vegetation',\n",
    "    'Total precipitation',\n",
    "    'Volumetric soil water layer 1',\n",
    "    'observed_fraction_mask',\n",
    "    'standard error of the estimation of burned area'\n",
    "]\n",
    "\n",
    "cubesList = { name: cubes.extract(iris.Constraint(name))[0] for name in ConstraintNames}\n",
    "print(cubesList)"
   ]
  },
  {
   "cell_type": "code",
   "execution_count": 4,
   "metadata": {},
   "outputs": [
    {
     "name": "stderr",
     "output_type": "stream",
     "text": [
      "c:\\Users\\Tilt\\miniconda3\\Lib\\site-packages\\iris\\_shapefiles.py:147: IrisDefaultingWarning: Cube has no coord_system; using default GeogCS lat/lon\n",
      "  warnings.warn(\n"
     ]
    },
    {
     "name": "stdout",
     "output_type": "stream",
     "text": [
      "Verification - Count should Equal Sum\n",
      "Count = 558\n",
      "Sum = 558.0\n",
      "Verification Mean should = 1\n",
      "Mean =  1.0\n",
      "We have 558 Datapoints Per Month\n",
      "All Verified - Continue\n"
     ]
    },
    {
     "name": "stderr",
     "output_type": "stream",
     "text": [
      "c:\\Users\\Tilt\\miniconda3\\Lib\\site-packages\\dask\\core.py:127: RuntimeWarning: divide by zero encountered in log\n",
      "  return func(*(_execute_task(a, cache) for a in args))\n"
     ]
    }
   ],
   "source": [
    "CountryName = \"Madagascar\"\n",
    "\n",
    "country_shp_reader = shpreader.Reader(\n",
    "    shpreader.natural_earth(\n",
    "        resolution=\"110m\", category=\"cultural\", name=\"admin_0_countries\"\n",
    "    )\n",
    ")\n",
    "Country_shp = [\n",
    "    country.geometry\n",
    "    for country in country_shp_reader.records()\n",
    "    if CountryName in country.attributes[\"NAME_LONG\"]\n",
    "][0]\n",
    "ObsMaskCube = mask_cube_from_shapefile(cubesList[\"observed_fraction_mask\"], Country_shp)\n",
    "ObsMaskCube = iris.analysis.maths.log(ObsMaskCube)\n",
    "ObsMaskCube = iris.analysis.maths.exp(ObsMaskCube)\n",
    "\n",
    "b=0\n",
    "a = ObsMaskCube.data\n",
    "print(\"Verification - Count should Equal Sum\")\n",
    "print(\"Count =\",ma.count(a))\n",
    "print(\"Sum =\",np.sum(a))\n",
    "if(np.round(np.sum(a)) == ma.count(a)):\n",
    "    b=b+1\n",
    "print(\"Verification Mean should = 1\")\n",
    "print(\"Mean = \",np.mean(a))\n",
    "if(np.round(np.mean(a)) == 1):\n",
    "    b=b+1\n",
    "print(\"We have\",ma.count(a),\"Datapoints Per Month\")\n",
    "if(b==2):\n",
    "    print(\"All Verified - Continue\")\n",
    "else:\n",
    "    print(\"Somethings gone wrong.\")\n",
    "\n",
    "BurnedCube = iris.analysis.maths.multiply(cubesList[\"burned_area\"], ObsMaskCube)\n",
    "PopnCube = iris.analysis.maths.multiply(cubesList[\"population_density\"], ObsMaskCube)\n",
    "WindCube = iris.analysis.maths.multiply(cubesList[\"10 metre wind speed\"], ObsMaskCube)\n",
    "TempCube = iris.analysis.maths.multiply(cubesList[\"2 metre temperature\"], ObsMaskCube)\n",
    "CAPECube = iris.analysis.maths.multiply(cubesList[\"Convective available potential energy\"], ObsMaskCube)\n",
    "HVegCube = iris.analysis.maths.multiply(cubesList[\"Leaf area index, high vegetation\"], ObsMaskCube)\n",
    "LVegCube = iris.analysis.maths.multiply(cubesList[\"Leaf area index, low vegetation\"], ObsMaskCube)\n",
    "PrecipCube = iris.analysis.maths.multiply(cubesList[\"Total precipitation\"], ObsMaskCube)\n",
    "SoilCube = iris.analysis.maths.multiply(cubesList[\"Volumetric soil water layer 1\"], ObsMaskCube)"
   ]
  },
  {
   "cell_type": "code",
   "execution_count": 5,
   "metadata": {},
   "outputs": [
    {
     "name": "stdout",
     "output_type": "stream",
     "text": [
      "(120, 720, 1440)\n",
      "[0.0 0.0 0.0 ... 0.0 0.0 0.0]\n",
      "66960\n",
      "558\n"
     ]
    },
    {
     "data": {
      "image/png": "[encoded data removed]",
      "text/plain": [
       "<Figure size 640x480 with 2 Axes>"
      ]
     },
     "metadata": {},
     "output_type": "display_data"
    }
   ],
   "source": [
    "a = BurnedCube.data\n",
    "print(np.shape(a))\n",
    "aNoMask = a[~a.mask]\n",
    "print(aNoMask)\n",
    "print(len(aNoMask))\n",
    "\n",
    "aMonth = BurnedCube[0].data\n",
    "aNoMaskMonth = aMonth[~aMonth.mask]\n",
    "print(len(aNoMaskMonth))\n",
    "# 173 Datapoints Per for Portugal\n",
    "Timesteps = round(len(aNoMask)/len(aNoMaskMonth))\n",
    "Samples = len(aNoMaskMonth)\n",
    "\n",
    "qplt.contourf(ObsMaskCube, 25)\n",
    "plt.gca().coastlines()\n",
    "plt.show()"
   ]
  },
  {
   "cell_type": "code",
   "execution_count": 6,
   "metadata": {},
   "outputs": [],
   "source": [
    "def DeCube(InCube):\n",
    "    InCube = InCube.data\n",
    "    InCube = InCube[~InCube.mask]\n",
    "    InCube = InCube.reshape(Timesteps, Samples, 1)\n",
    "    return InCube"
   ]
  },
  {
   "cell_type": "code",
   "execution_count": 7,
   "metadata": {},
   "outputs": [
    {
     "name": "stderr",
     "output_type": "stream",
     "text": [
      "c:\\Users\\Tilt\\miniconda3\\Lib\\site-packages\\iris\\analysis\\maths.py:1014: RuntimeWarning: divide by zero encountered in log\n",
      "  data = operation_function(cube.core_data())\n"
     ]
    },
    {
     "name": "stdout",
     "output_type": "stream",
     "text": [
      "(120, 558)\n",
      "Training Shape (96, 558, 8) (24, 558)\n",
      "Testing Shape (96, 558, 8) (24, 558)\n"
     ]
    }
   ],
   "source": [
    "BurnedCube = iris.analysis.maths.add(BurnedCube,1)\n",
    "BurnedCube = iris.analysis.maths.log(BurnedCube)\n",
    "\n",
    "#Verifying this doesnt break it\n",
    "#a = BurnedCube.data\n",
    "#a = a[~a.mask]\n",
    "#print(len(a))\n",
    "\n",
    "Burned = DeCube(BurnedCube)\n",
    "\n",
    "Popn = DeCube(PopnCube)\n",
    "Wind = DeCube(WindCube)\n",
    "Temp = DeCube(TempCube)\n",
    "CAPE = DeCube(CAPECube)\n",
    "HVeg = DeCube(HVegCube)\n",
    "LVeg = DeCube(LVegCube)\n",
    "Precip = DeCube(PrecipCube)\n",
    "Soil = DeCube(SoilCube)\n",
    "\n",
    "X_full = np.dstack((Popn,Wind,Temp,CAPE,HVeg,LVeg,Precip,Soil))\n",
    "y_full = Burned\n",
    "\n",
    "mm = MinMaxScaler()\n",
    "#ss = StandardScaler()\n",
    "y_full2D = y_full.reshape(Burned.shape[0],Burned.shape[1])\n",
    "#X_ss = ss.fit_transform(X_full)\n",
    "y_mm = mm.fit_transform(y_full2D) \n",
    "\n",
    "print(y_full2D.shape)\n",
    "\n",
    "X_train = X_full[:-24,:,:]\n",
    "X_test = X_full[96:,:,:]\n",
    "\n",
    "y_train = y_mm[:-24,:] \n",
    "y_test = y_mm[96:,:]\n",
    "print(\"Training Shape\",X_train.shape,y_test.shape)\n",
    "print(\"Testing Shape\",X_train.shape,y_test.shape)"
   ]
  },
  {
   "cell_type": "code",
   "execution_count": 8,
   "metadata": {},
   "outputs": [
    {
     "name": "stdout",
     "output_type": "stream",
     "text": [
      "Training Shape torch.Size([96, 558, 8]) torch.Size([96, 558])\n",
      "Testing Shape torch.Size([24, 558, 8]) torch.Size([24, 558])\n"
     ]
    }
   ],
   "source": [
    "X_train_tensors = Variable(torch.Tensor(X_train))\n",
    "X_test_tensors = Variable(torch.Tensor(X_test))\n",
    "\n",
    "y_train_tensors = Variable(torch.Tensor(y_train))\n",
    "y_test_tensors = Variable(torch.Tensor(y_test)) \n",
    "\n",
    "print(\"Training Shape\", X_train_tensors.shape, y_train_tensors.shape)\n",
    "print(\"Testing Shape\", X_test_tensors.shape, y_test_tensors.shape) "
   ]
  },
  {
   "cell_type": "code",
   "execution_count": 26,
   "metadata": {},
   "outputs": [],
   "source": [
    "# Code Adapted from 'How to apply LSTM using PyTorch'; Ahmad Anis, n.d.\n",
    "# Available from: https://cnvrg.io/pytorch-lstm/ [Accessed 16 July 2024]\n",
    "\n",
    "class LSTM1(nn.Module):\n",
    "    def __init__(self, num_classes, input_size, hidden_size, num_layers, seq_length):\n",
    "        super(LSTM1, self).__init__()\n",
    "        self.num_classes = num_classes #number of classes\n",
    "        self.num_layers = num_layers #number of layers\n",
    "        self.input_size = input_size #input size\n",
    "        self.hidden_size = hidden_size #hidden state\n",
    "        self.seq_length = seq_length #sequence length\n",
    "\n",
    "        self.lstm = nn.LSTM(input_size=input_size, hidden_size=hidden_size,\n",
    "                          num_layers=num_layers, batch_first=True) #lstm\n",
    "        self.fc_1 =  nn.Linear(hidden_size, 1024) #fully connected 1\n",
    "        self.fc_2 =  nn.Linear(1024, 1024) #fully connected 2\n",
    "        self.fc_3 =  nn.Linear(1024, 1024) #fully connected 3\n",
    "        self.fc_4 =  nn.Linear(1024, 1024) #fully connected 4\n",
    "        self.fc_5 =  nn.Linear(1024, 1024) #fully connected 5\n",
    "        self.fc_6 =  nn.Linear(1024, 1024) #fully connected 6\n",
    "        self.fc_7 =  nn.Linear(1024, 1024) #fully connected 7\n",
    "        self.fc_8 =  nn.Linear(1024, 1024) #fully connected 8\n",
    "        self.fc = nn.Linear(1024, num_classes) #fully connected last layer\n",
    "        self.relu = nn.ReLU()\n",
    "    \n",
    "    def forward(self,x):\n",
    "        h_0 = Variable(torch.zeros(self.num_layers, x.size(0), self.hidden_size)) #hidden state\n",
    "        c_0 = Variable(torch.zeros(self.num_layers, x.size(0), self.hidden_size)) #internal state\n",
    "        # Propagate input through LSTM\n",
    "        output, (hn, cn) = self.lstm(x, (h_0, c_0)) #lstm with input, hidden, and internal state\n",
    "        hn = hn.view(-1, self.hidden_size) #reshaping the data for Dense layer next\n",
    "        out = self.relu(hn)\n",
    "        out = self.fc_1(out) #first Dense\n",
    "        out = self.relu(out) #relu\n",
    "        out = self.fc_2(out) #first Dense\n",
    "        out = self.relu(out) #relu\n",
    "        out = self.fc_3(out) #first Dense\n",
    "        out = self.relu(out) #relu\n",
    "        out = self.fc_4(out) #first Dense\n",
    "        out = self.relu(out) #relu\n",
    "        out = self.fc_5(out) #first Dense\n",
    "        out = self.relu(out) #relu\n",
    "        out = self.fc_6(out) #first Dense\n",
    "        out = self.relu(out) #relu\n",
    "        out = self.fc_7(out) #first Dense\n",
    "        out = self.relu(out) #relu\n",
    "        out = self.fc_8(out) #first Dense\n",
    "        out = self.relu(out) #relu\n",
    "        out = self.fc(out) #Final Output\n",
    "        return out"
   ]
  },
  {
   "cell_type": "code",
   "execution_count": 27,
   "metadata": {},
   "outputs": [],
   "source": [
    "num_epochs = 2000 #1000 epochs\n",
    "learning_rate = 0.0001 #0.001 lr\n",
    "\n",
    "input_size = 8 #number of features\n",
    "hidden_size = 8 #number of features in hidden state\n",
    "num_layers = 1 #number of stacked lstm layers\n",
    "\n",
    "num_classes = y_test.shape[1] #number of output classes "
   ]
  },
  {
   "cell_type": "markdown",
   "metadata": {},
   "source": [
    "X_train_tensors = Variable(torch.Tensor(X_train))\n",
    "X_test_tensors = Variable(torch.Tensor(X_test))\n",
    "\n",
    "y_train_tensors = Variable(torch.Tensor(y_train.reshape(96,173)))\n",
    "y_test_tensors = Variable(torch.Tensor(y_test.reshape(24,173))) \n",
    "print(\"Training Shape\", X_train_tensors.shape, y_train_tensors.shape)\n",
    "print(\"Testing Shape\", X_test_tensors.shape, y_test_tensors.shape)"
   ]
  },
  {
   "cell_type": "code",
   "execution_count": 28,
   "metadata": {},
   "outputs": [],
   "source": [
    "lstm1 = LSTM1(num_classes, input_size, hidden_size, num_layers, X_train_tensors.shape[1]) #our lstm class"
   ]
  },
  {
   "cell_type": "code",
   "execution_count": 29,
   "metadata": {},
   "outputs": [],
   "source": [
    "criterion = torch.nn.MSELoss()    # mean-squared error for regression\n",
    "optimizer = torch.optim.Adam(lstm1.parameters(), lr=learning_rate)"
   ]
  },
  {
   "cell_type": "code",
   "execution_count": 30,
   "metadata": {},
   "outputs": [
    {
     "name": "stdout",
     "output_type": "stream",
     "text": [
      "Epoch: 0, loss: 0.22512\n",
      "Epoch: 100, loss: 0.08311\n",
      "Epoch: 200, loss: 0.07885\n",
      "Epoch: 300, loss: 0.07453\n",
      "Epoch: 400, loss: 0.07015\n",
      "Epoch: 500, loss: 0.06730\n",
      "Epoch: 600, loss: 0.06438\n",
      "Epoch: 700, loss: 0.06150\n",
      "Epoch: 800, loss: 0.06018\n",
      "Epoch: 900, loss: 0.06305\n",
      "Epoch: 1000, loss: 0.06100\n",
      "Epoch: 1100, loss: 0.05863\n",
      "Epoch: 1200, loss: 0.05602\n",
      "Epoch: 1300, loss: 0.05379\n",
      "Epoch: 1400, loss: 0.05273\n",
      "Epoch: 1500, loss: 0.05116\n",
      "Epoch: 1600, loss: 0.05032\n",
      "Epoch: 1700, loss: 0.05499\n",
      "Epoch: 1800, loss: 0.05373\n",
      "Epoch: 1900, loss: 0.05147\n"
     ]
    }
   ],
   "source": [
    "for epoch in range(num_epochs):\n",
    "  outputs = lstm1.forward(X_train_tensors) #forward pass\n",
    "  optimizer.zero_grad() #caluclate the gradient, manually setting to 0\n",
    "\n",
    "  # obtain the loss function\n",
    "  loss = criterion(outputs, y_train_tensors)\n",
    "  loss.backward() #calculates the loss of the loss function\n",
    "  optimizer.step() #improve from loss, i.e backprop\n",
    "  if epoch % 100 == 0:\n",
    "    print(\"Epoch: %d, loss: %1.5f\" % (epoch, loss.item())) "
   ]
  },
  {
   "cell_type": "code",
   "execution_count": 31,
   "metadata": {},
   "outputs": [
    {
     "name": "stdout",
     "output_type": "stream",
     "text": [
      "[[6.7842806e+05 2.0000000e+00 2.0349956e+00 ... 2.0302439e+00\n",
      "  2.0179315e+00 2.0394599e+00]\n",
      " [4.4944696e+00 2.2002163e+00 2.0015202e+00 ... 2.0000000e+00\n",
      "  2.0336432e+00 2.0293844e+00]\n",
      " [4.5573082e+00 5.4128609e+00 2.0000000e+00 ... 2.0000000e+00\n",
      "  2.0116763e+00 2.0128050e+00]\n",
      " ...\n",
      " [5.1130919e+00 2.0000000e+00 2.0000000e+00 ... 2.0000000e+00\n",
      "  2.0340095e+00 2.0302939e+00]\n",
      " [1.8950264e+03 2.0000000e+00 2.0351858e+00 ... 2.0000000e+00\n",
      "  2.0485053e+00 2.0240710e+00]\n",
      " [3.3997674e+00 3.0428774e+00 2.0103028e+00 ... 2.0000000e+00\n",
      "  2.0298591e+00 2.0251739e+00]]\n",
      "[[2. 2. 2. ... 2. 2. 2.]\n",
      " [2. 2. 2. ... 2. 2. 2.]\n",
      " [2. 2. 2. ... 2. 2. 2.]\n",
      " ...\n",
      " [2. 2. 2. ... 2. 2. 2.]\n",
      " [2. 2. 2. ... 2. 2. 2.]\n",
      " [2. 2. 2. ... 2. 2. 2.]]\n"
     ]
    }
   ],
   "source": [
    "PredictedOutputs = lstm1(X_test_tensors)\n",
    "PredictedOutputs = PredictedOutputs.data.numpy()\n",
    "#print(PredictedOutputs)\n",
    "#print(PredictedOutputs.shape)\n",
    "#print(y_test)\n",
    "#print(y_test.shape)\n",
    "\n",
    "Diff = PredictedOutputs - y_test\n",
    "PredictedOutputsRaw = mm.inverse_transform(PredictedOutputs)\n",
    "PredictedOutputsRaw = np.exp(PredictedOutputsRaw) + 1\n",
    "y_testRaw = mm.inverse_transform(y_test)\n",
    "y_testRaw = np.exp(y_testRaw) + 1\n",
    "PredictedOutputsRaw[PredictedOutputsRaw<2]=2\n",
    "#print(PredictedOutputsRaw)\n",
    "#print(y_testRaw)"
   ]
  },
  {
   "cell_type": "code",
   "execution_count": 32,
   "metadata": {},
   "outputs": [
    {
     "name": "stdout",
     "output_type": "stream",
     "text": [
      "-0.4644604044595831\n",
      "-64761903.988054715\n"
     ]
    }
   ],
   "source": [
    "a = y_test\n",
    "a[a>0] = 1\n",
    "\n",
    "DeltaScaledNonTrivial = PredictedOutputs[a>0] - y_test[a>0]\n",
    "#print(DeltaScaledNonTrivial.mean())\n",
    "\n",
    "DeltaRawNonTrivial = PredictedOutputsRaw[a>0] - y_testRaw[a>0]\n",
    "#print(DeltaRawNonTrivial.mean())"
   ]
  },
  {
   "cell_type": "code",
   "execution_count": 23,
   "metadata": {},
   "outputs": [
    {
     "name": "stdout",
     "output_type": "stream",
     "text": [
      "(13392, 1)\n",
      "(13392, 1)\n"
     ]
    }
   ],
   "source": [
    "SECube = iris.analysis.maths.multiply(cubesList['standard error of the estimation of burned area'], ObsMaskCube)\n",
    "SE = DeCube(SECube)\n",
    "SE = SE[96:,:]\n",
    "Delta = y_testRaw - PredictedOutputsRaw\n",
    "DeltaReal = abs(Delta)\n",
    "DeltaReal = DeltaReal.reshape(-1,1)\n",
    "SE = SE.reshape(-1,1)\n",
    "#print(DeltaReal.shape)\n",
    "#print(SE.shape)"
   ]
  },
  {
   "cell_type": "code",
   "execution_count": 24,
   "metadata": {},
   "outputs": [
    {
     "name": "stdout",
     "output_type": "stream",
     "text": [
      "Percentage of Predictions within 1*SE of Burned Area = 0.07347670250896057\n",
      "Percentage of Predictions within 2*SE of Burned Area = 0.07377538829151732\n",
      "Percentage of Predictions within 3*SE of Burned Area = 0.0745221027479092\n"
     ]
    }
   ],
   "source": [
    "#print(SEtest.shape)\n",
    "#print(DeltaReal.shape)\n",
    "CompColV = np.hstack((SE,DeltaReal))\n",
    "IsVAccurateCol = np.zeros((SE.shape[0],1))\n",
    "#print(IsVAccurateCol.shape[0])\n",
    "for i in range(IsVAccurateCol.shape[0]):\n",
    "    if CompColV[i,1] > CompColV[i,0]:\n",
    "        IsVAccurateCol[i,0] = 0\n",
    "    else:\n",
    "        IsVAccurateCol[i,0] = 1\n",
    "print(\"Percentage of Predictions within 1*SE of Burned Area =\",IsVAccurateCol.mean())\n",
    "CompCol = np.hstack((2*SE,DeltaReal))\n",
    "IsAccurateCol = np.zeros((SE.shape[0],1))\n",
    "#print(IsAccurateCol.shape[0])\n",
    "for i in range(IsAccurateCol.shape[0]):\n",
    "    if CompCol[i,1] > CompCol[i,0]:\n",
    "        IsAccurateCol[i,0] = 0\n",
    "    else:\n",
    "        IsAccurateCol[i,0] = 1\n",
    "print(\"Percentage of Predictions within 2*SE of Burned Area =\",IsAccurateCol.mean())\n",
    "CompColNR = np.hstack((3*SE,DeltaReal))\n",
    "IsNRAccurateCol = np.zeros((SE.shape[0],1))\n",
    "#print(IsVAccurateCol.shape[0])\n",
    "for i in range(IsNRAccurateCol.shape[0]):\n",
    "    if CompColNR[i,1] > CompColNR[i,0]:\n",
    "        IsNRAccurateCol[i,0] = 0\n",
    "    else:\n",
    "        IsNRAccurateCol[i,0] = 1\n",
    "print(\"Percentage of Predictions within 3*SE of Burned Area =\",IsNRAccurateCol.mean())\n",
    "# Plot Histo of Pred vs Real"
   ]
  }
 ],
 "metadata": {
  "kernelspec": {
   "display_name": "base",
   "language": "python",
   "name": "python3"
  },
  "language_info": {
   "codemirror_mode": {
    "name": "ipython",
    "version": 3
   },
   "file_extension": ".py",
   "mimetype": "text/x-python",
   "name": "python",
   "nbconvert_exporter": "python",
   "pygments_lexer": "ipython3",
   "version": "3.12.3"
  }
 },
 "nbformat": 4,
 "nbformat_minor": 2
}
